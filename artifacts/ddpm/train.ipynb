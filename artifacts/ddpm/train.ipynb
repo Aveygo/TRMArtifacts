{
 "cells": [
  {
   "cell_type": "markdown",
   "id": "1288485c",
   "metadata": {},
   "source": [
    "# DDPM Training\n",
    "This notebook contains my first learning artifact; implementing Denoising Diffusion Probabilistic Models (DDPM) within pytorch to train and generate MNIST images.\n",
    "\n",
    "This includes loading the dataset & model, and the additional DDPM relation functions for training. \n"
   ]
  },
  {
   "cell_type": "markdown",
   "id": "9883bb57",
   "metadata": {},
   "source": [
    "## Importing libraries\n",
    "Nothing special here, mainly just pytorch & matplotlib "
   ]
  },
  {
   "cell_type": "code",
   "execution_count": null,
   "id": "44be7b90",
   "metadata": {},
   "outputs": [],
   "source": [
    "import torch\n",
    "import torch.nn as nn\n",
    "import torch.nn.functional as F\n",
    "from torch.utils.data import DataLoader\n",
    "from torchvision import datasets, transforms\n",
    "import matplotlib.pyplot as plt"
   ]
  },
  {
   "cell_type": "markdown",
   "id": "9c0c4c30",
   "metadata": {},
   "source": [
    "## Hyperparameters\n",
    "Defining hyperparameters for training and DDPM."
   ]
  },
  {
   "cell_type": "code",
   "execution_count": null,
   "id": "69517a8a",
   "metadata": {},
   "outputs": [],
   "source": [
    "img_size = 28\n",
    "channels = 1\n",
    "timesteps = 1000\n",
    "batch_size = 128\n",
    "epochs = 10\n",
    "learning_rate = 1e-4\n",
    "\n",
    "device = torch.device(\"cuda\" if torch.cuda.is_available() else \"cpu\")"
   ]
  },
  {
   "cell_type": "markdown",
   "id": "8989357a",
   "metadata": {},
   "source": [
    "## Model Definitions\n",
    "\n",
    "The UNet architecture that will be used to train & generate new samples. \n",
    "\n",
    "Please note; I was kinda lazy and so I mainly used a template I found [on github](https://github.com/clemkoa/u-net/blob/master/unet/unet.py). My primary modifications are implementing time embedding functionality to the architecture (as noted by the original DDPM paper), otherwise it's exceedingly normal."
   ]
  },
  {
   "cell_type": "code",
   "execution_count": null,
   "id": "05ddbc36",
   "metadata": {},
   "outputs": [],
   "source": [
    "class DoubleConv(nn.Module):\n",
    "    def __init__(self, in_ch, out_ch):\n",
    "        super(DoubleConv, self).__init__()\n",
    "        self.conv = nn.Sequential(\n",
    "            nn.Conv2d(in_ch, out_ch, kernel_size=3, padding=1),\n",
    "            nn.BatchNorm2d(out_ch),\n",
    "            nn.ReLU(inplace=True),\n",
    "            nn.Conv2d(out_ch, out_ch, kernel_size=3, padding=1),\n",
    "            nn.BatchNorm2d(out_ch),\n",
    "            nn.ReLU(inplace=True),\n",
    "        )\n",
    "\n",
    "    def forward(self, x):\n",
    "        x = self.conv(x)\n",
    "        return x\n",
    "\n",
    "class Up(nn.Module):\n",
    "    def __init__(self, in_ch, out_ch):\n",
    "        super(Up, self).__init__()\n",
    "        self.up_scale = nn.ConvTranspose2d(in_ch, out_ch, kernel_size=2, stride=2)\n",
    "\n",
    "    def forward(self, x1, x2):\n",
    "        x2 = self.up_scale(x2)\n",
    "\n",
    "        diffY = x1.size()[2] - x2.size()[2]\n",
    "        diffX = x1.size()[3] - x2.size()[3]\n",
    "\n",
    "        x2 = F.pad(x2, [diffX // 2, diffX - diffX // 2, diffY // 2, diffY - diffY // 2])\n",
    "        x = torch.cat([x2, x1], dim=1)\n",
    "        return x\n",
    "\n",
    "\n",
    "class DownLayer(nn.Module):\n",
    "    def __init__(self, in_ch, out_ch):\n",
    "        super(DownLayer, self).__init__()\n",
    "        self.pool = nn.MaxPool2d(2, stride=2, padding=0)\n",
    "        self.conv = DoubleConv(in_ch, out_ch)\n",
    "\n",
    "    def forward(self, x):\n",
    "        x = self.conv(self.pool(x))\n",
    "        return x\n",
    "\n",
    "\n",
    "class UpLayer(nn.Module):\n",
    "    def __init__(self, in_ch, out_ch):\n",
    "        super(UpLayer, self).__init__()\n",
    "        self.up = Up(in_ch, out_ch)\n",
    "        self.conv = DoubleConv(in_ch, out_ch)\n",
    "\n",
    "    def forward(self, x1, x2):\n",
    "        a = self.up(x1, x2)\n",
    "        x = self.conv(a)\n",
    "        return x\n",
    "\n",
    "\n",
    "class UNet(nn.Module):\n",
    "\tdef __init__(self, channels=1, time_dim=128):\n",
    "\t\tsuper(UNet, self).__init__()\n",
    "\t\tself.conv1 = DoubleConv(channels, 64)\n",
    "\t\tself.down1 = DownLayer(64, 128)\n",
    "\t\tself.down2 = DownLayer(128, 256)\n",
    "\t\tself.down3 = DownLayer(256, 512)\n",
    "\t\tself.down4 = DownLayer(512, 1024)\n",
    "\t\tself.up1 = UpLayer(1024, 512)\n",
    "\t\tself.up2 = UpLayer(512, 256)\n",
    "\t\tself.up3 = UpLayer(256, 128)\n",
    "\t\tself.up4 = UpLayer(128, 64)\n",
    "\t\tself.last_conv = nn.Conv2d(64, channels, 1)\n",
    "\n",
    "\t\tself.time_embed = nn.Embedding(timesteps, time_dim)\n",
    "\t\tself.time_proj = nn.Linear(time_dim, 64)\n",
    "\n",
    "\tdef forward(self, x, t):\n",
    "\n",
    "\t\tt_embed = self.time_embed(t)\n",
    "\t\tt_embed = F.relu(self.time_proj(t_embed))\n",
    "\n",
    "\t\tx1 = self.conv1(x) + t_embed.view(-1, 64, 1, 1)\n",
    "\t\tx2 = self.down1(x1)\n",
    "\t\tx3 = self.down2(x2)\n",
    "\t\tx4 = self.down3(x3)\n",
    "\t\tx5 = self.down4(x4)\n",
    "\t\tx1_up = self.up1(x4, x5)\n",
    "\t\tx2_up = self.up2(x3, x1_up)\n",
    "\t\tx3_up = self.up3(x2, x2_up)\n",
    "\t\tx4_up = self.up4(x1, x3_up)\n",
    "\t\toutput = self.last_conv(x4_up)\n",
    "\t\treturn output\n"
   ]
  },
  {
   "cell_type": "markdown",
   "id": "982e891d",
   "metadata": {},
   "source": [
    "## Primary DDPM, Training, & Sampling Functions\n",
    "\n",
    "While there's a lot of information in the original paper, it's a little math-heavy and difficult to read. \n",
    "\n",
    "Thats why the following functions are loosely inspired from [OpenAI's improved DDPM repo](https://github.com/openai/improved-diffusion/blob/main/improved_diffusion/resample.py)"
   ]
  },
  {
   "cell_type": "code",
   "execution_count": null,
   "id": "cab89b08",
   "metadata": {},
   "outputs": [],
   "source": [
    "# DDPM schedules\n",
    "def beta_schedule(timesteps):\n",
    "\t# Linearly spaced noise variance values (how much noise is added at each forward diffusion step)\n",
    "\tbetas = torch.linspace(0.0001, 0.02, timesteps).to(device)\n",
    "\n",
    "\t# How much of the original image remains\n",
    "\talphas = 1.0 - betas\n",
    "\n",
    "\t# Total signal preserved up till t\n",
    "\talphas_cumprod = torch.cumprod(alphas, dim=0)\n",
    "\n",
    "\treturn betas, alphas, alphas_cumprod\n",
    "\n",
    "betas, alphas, alphas_cumprod = beta_schedule(timesteps)\n",
    "\n",
    "# Forward diffusion process: q(x_t | x_0)\n",
    "def q_sample(x_0, t, noise=None):\n",
    "\tif noise is None:\n",
    "\t\tnoise = torch.randn_like(x_0).to(device) # gaussian noise\n",
    "\n",
    "\t# amount of original image signal remaining at step t\n",
    "\tsqrt_alphas_cumprod_t = torch.sqrt(alphas_cumprod[t]).view(-1, 1, 1, 1)\n",
    "\t\n",
    "\t# amount of noise added at step t\n",
    "\tsqrt_one_minus_alphas_cumprod_t = torch.sqrt(1.0 - alphas_cumprod[t]).view(-1, 1, 1, 1)\n",
    "\n",
    "\t# returned noisy image\n",
    "\treturn sqrt_alphas_cumprod_t * x_0 + sqrt_one_minus_alphas_cumprod_t * noise\n",
    "\n",
    "# Training\n",
    "def train(model, dataloader, optimizer):\n",
    "\tmodel.train()\n",
    "\tlosses = []\n",
    "\tfor epoch in range(epochs):\n",
    "\t\tfor batch_idx, (data, _) in enumerate(dataloader):\n",
    "\t\t\t\n",
    "\t\t\t# Normal data loading\n",
    "\t\t\tdata = data.to(device)\n",
    "\t\t\toptimizer.zero_grad()\n",
    "\t\t\tt = torch.randint(0, timesteps, (data.size(0),), device=device) # Random time step for each image\n",
    "\t\t\tnoise = torch.randn_like(data).to(device)\n",
    "\n",
    "\t\t\t# Actually create the noisy images\n",
    "\t\t\tx_t = q_sample(data, t, noise)\n",
    "\n",
    "\t\t\t# Get the model to predict the noise\n",
    "\t\t\tpredicted_noise = model(x_t, t)\n",
    "\n",
    "\t\t\t# Calculate loss and back propagate\n",
    "\t\t\tloss = F.mse_loss(predicted_noise, noise)\n",
    "\t\t\tloss.backward()\n",
    "\t\t\toptimizer.step()\n",
    "\n",
    "\t\t\t# Logging\n",
    "\t\t\tif batch_idx % 100 == 0:\n",
    "\t\t\t\tprint(f'Epoch {epoch}, Batch {batch_idx}, Loss: {loss.item():.4f}')\n",
    "\t\t\t\tlosses.append(loss.item())\n",
    "\t\n",
    "\treturn losses\n",
    "\n",
    "# Sampling\n",
    "@torch.no_grad()\n",
    "def sample(model, n_samples):\n",
    "\tmodel.eval()\n",
    "\t\n",
    "\t# Start with gaussian noise\n",
    "\tx = torch.randn(n_samples, channels, img_size, img_size).to(device)\n",
    "\n",
    "\t# Reverse process\n",
    "\tfor t in reversed(range(timesteps)):\n",
    "\t\t\n",
    "\t\t# Current time step\n",
    "\t\tt_tensor = torch.full((n_samples,), t, device=device, dtype=torch.long)\n",
    "\t\t\n",
    "\t\t# Take a guess\n",
    "\t\tpredicted_noise = model(x, t_tensor)\n",
    "\t\t\n",
    "\t\t# How much noise *should've* been added\n",
    "\t\tbeta_t = betas[t].view(-1, 1, 1, 1)\n",
    "\n",
    "\t\t# How much of the original image should remain\n",
    "\t\talpha_t = alphas[t].view(-1, 1, 1, 1)\n",
    "\n",
    "\t\t# Basically the reverse of q_sample(), mainly undoing the noise in the image\n",
    "\t\t# Uses this nightmare of a formula to account for the expected noise & signal that is still in the image\n",
    "\t\tx = (1 / torch.sqrt(alpha_t)) * (x - ((1 - alpha_t) / torch.sqrt(1 - alphas_cumprod[t])) * predicted_noise)\n",
    "\t\t\n",
    "\t\t# Not at the final step, add noise back in\n",
    "\t\tif t > 0:\n",
    "\t\t\tx += torch.sqrt(beta_t) * torch.randn_like(x)\n",
    "\t\n",
    "\treturn (x.clamp(-1, 1) + 1) / 2\n",
    "\n"
   ]
  },
  {
   "cell_type": "markdown",
   "id": "5f930440",
   "metadata": {},
   "source": [
    "## Loading the required classes for training\n",
    "Nothing too special here. Loading & shuffling MNIST, then setting up the model & optimiser"
   ]
  },
  {
   "cell_type": "code",
   "execution_count": null,
   "id": "84940185",
   "metadata": {},
   "outputs": [],
   "source": [
    "# Data loading\n",
    "transform = transforms.Compose([\n",
    "    transforms.ToTensor(),\n",
    "    transforms.Normalize((0.5,), (0.5,))\n",
    "])\n",
    "dataset = datasets.MNIST(root='./data', train=True, transform=transform, download=True)\n",
    "dataloader = DataLoader(dataset, batch_size=batch_size, shuffle=True)\n",
    "\n",
    "# Model and optimizer\n",
    "model = UNet(channels).to(device)\n",
    "optimizer = torch.optim.Adam(model.parameters(), lr=learning_rate)"
   ]
  },
  {
   "cell_type": "code",
   "execution_count": 37,
   "id": "7bc14b5e",
   "metadata": {},
   "outputs": [
    {
     "name": "stdout",
     "output_type": "stream",
     "text": [
      "Epoch 0, Batch 0, Loss: 1.1295\n",
      "Epoch 0, Batch 100, Loss: 0.1056\n",
      "Epoch 0, Batch 200, Loss: 0.0704\n",
      "Epoch 0, Batch 300, Loss: 0.0687\n",
      "Epoch 0, Batch 400, Loss: 0.0768\n",
      "Epoch 1, Batch 0, Loss: 0.0636\n",
      "Epoch 1, Batch 100, Loss: 0.0567\n",
      "Epoch 1, Batch 200, Loss: 0.0430\n",
      "Epoch 1, Batch 300, Loss: 0.0537\n",
      "Epoch 1, Batch 400, Loss: 0.0475\n",
      "Epoch 2, Batch 0, Loss: 0.0595\n",
      "Epoch 2, Batch 100, Loss: 0.0386\n",
      "Epoch 2, Batch 200, Loss: 0.0383\n",
      "Epoch 2, Batch 300, Loss: 0.0414\n",
      "Epoch 2, Batch 400, Loss: 0.0393\n",
      "Epoch 3, Batch 0, Loss: 0.0447\n",
      "Epoch 3, Batch 100, Loss: 0.0381\n",
      "Epoch 3, Batch 200, Loss: 0.0350\n",
      "Epoch 3, Batch 300, Loss: 0.0379\n",
      "Epoch 3, Batch 400, Loss: 0.0420\n",
      "Epoch 4, Batch 0, Loss: 0.0333\n",
      "Epoch 4, Batch 100, Loss: 0.0333\n",
      "Epoch 4, Batch 200, Loss: 0.0455\n",
      "Epoch 4, Batch 300, Loss: 0.0478\n",
      "Epoch 4, Batch 400, Loss: 0.0271\n",
      "Epoch 5, Batch 0, Loss: 0.0291\n",
      "Epoch 5, Batch 100, Loss: 0.0309\n",
      "Epoch 5, Batch 200, Loss: 0.0386\n",
      "Epoch 5, Batch 300, Loss: 0.0362\n",
      "Epoch 5, Batch 400, Loss: 0.0359\n",
      "Epoch 6, Batch 0, Loss: 0.0378\n",
      "Epoch 6, Batch 100, Loss: 0.0338\n",
      "Epoch 6, Batch 200, Loss: 0.0304\n",
      "Epoch 6, Batch 300, Loss: 0.0429\n",
      "Epoch 6, Batch 400, Loss: 0.0371\n",
      "Epoch 7, Batch 0, Loss: 0.0266\n",
      "Epoch 7, Batch 100, Loss: 0.0320\n",
      "Epoch 7, Batch 200, Loss: 0.0327\n",
      "Epoch 7, Batch 300, Loss: 0.0281\n",
      "Epoch 7, Batch 400, Loss: 0.0229\n",
      "Epoch 8, Batch 0, Loss: 0.0327\n",
      "Epoch 8, Batch 100, Loss: 0.0270\n",
      "Epoch 8, Batch 200, Loss: 0.0398\n",
      "Epoch 8, Batch 300, Loss: 0.0331\n",
      "Epoch 8, Batch 400, Loss: 0.0348\n",
      "Epoch 9, Batch 0, Loss: 0.0300\n",
      "Epoch 9, Batch 100, Loss: 0.0311\n",
      "Epoch 9, Batch 200, Loss: 0.0279\n",
      "Epoch 9, Batch 300, Loss: 0.0246\n",
      "Epoch 9, Batch 400, Loss: 0.0280\n"
     ]
    }
   ],
   "source": [
    "# Train\n",
    "losses = train(model, dataloader, optimizer)"
   ]
  },
  {
   "cell_type": "markdown",
   "id": "141e27e9",
   "metadata": {},
   "source": [
    "## Plotting loss history\n",
    "Hopefully shows convergence!"
   ]
  },
  {
   "cell_type": "code",
   "execution_count": 41,
   "id": "ede9854a",
   "metadata": {},
   "outputs": [
    {
     "data": {
      "image/png": "[encoded data removed]",
      "text/plain": [
       "<Figure size 640x480 with 1 Axes>"
      ]
     },
     "metadata": {},
     "output_type": "display_data"
    }
   ],
   "source": [
    "plt.plot(losses)\n",
    "plt.title(\"DDPM Loss History\")\n",
    "plt.yscale('log')\n",
    "plt.ylabel('MSE Loss')\n",
    "plt.xlabel('Step')\n",
    "plt.show()"
   ]
  },
  {
   "cell_type": "markdown",
   "id": "084cdfaa",
   "metadata": {},
   "source": [
    "## Inferencing the model\n",
    "See sample() in DDPM for more information"
   ]
  },
  {
   "cell_type": "code",
   "execution_count": 39,
   "id": "7a00b5c7",
   "metadata": {},
   "outputs": [
    {
     "data": {
      "image/png": "[encoded data removed]",
      "text/plain": [
       "<Figure size 800x800 with 16 Axes>"
      ]
     },
     "metadata": {},
     "output_type": "display_data"
    }
   ],
   "source": [
    "# Generate & display samples\n",
    "def display_samples(samples):\n",
    "    samples = samples.cpu().numpy()\n",
    "    n = int(samples.shape[0] ** 0.5)\n",
    "    fig, axes = plt.subplots(n, n, figsize=(8, 8))\n",
    "    for i in range(n):\n",
    "        for j in range(n):\n",
    "            idx = i * n + j\n",
    "            if idx < samples.shape[0]:\n",
    "                axes[i, j].imshow(samples[idx, 0], cmap='gray')\n",
    "                axes[i, j].axis('off')\n",
    "                \n",
    "    plt.tight_layout()\n",
    "    plt.show()\n",
    "\n",
    "samples = sample(model, n_samples=16).cpu()\n",
    "display_samples(samples)\n"
   ]
  }
 ],
 "metadata": {
  "kernelspec": {
   "display_name": "Python 3",
   "language": "python",
   "name": "python3"
  },
  "language_info": {
   "codemirror_mode": {
    "name": "ipython",
    "version": 3
   },
   "file_extension": ".py",
   "mimetype": "text/x-python",
   "name": "python",
   "nbconvert_exporter": "python",
   "pygments_lexer": "ipython3",
   "version": "3.13.3"
  }
 },
 "nbformat": 4,
 "nbformat_minor": 5
}
